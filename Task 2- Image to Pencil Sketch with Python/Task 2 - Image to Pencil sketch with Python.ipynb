{
 "cells": [
  {
   "cell_type": "markdown",
   "id": "6b1b698a",
   "metadata": {},
   "source": [
    "# Name - Aditi Sharma\n",
    "# Task 2 - Image to Pencil sketch with Python\n",
    "# Data Science Intern at Lets Grow More"
   ]
  },
  {
   "cell_type": "markdown",
   "id": "98ceb395",
   "metadata": {},
   "source": [
    "## Importing Library "
   ]
  },
  {
   "cell_type": "code",
   "execution_count": 28,
   "id": "a3fd023f",
   "metadata": {},
   "outputs": [],
   "source": [
    "import cv2"
   ]
  },
  {
   "cell_type": "markdown",
   "id": "3e050dc7",
   "metadata": {},
   "source": [
    "## Loading the image"
   ]
  },
  {
   "cell_type": "code",
   "execution_count": 29,
   "id": "98c5a5a7",
   "metadata": {},
   "outputs": [],
   "source": [
    "image = cv2.imread('color_img.jpg')  # loads an image from the specified file"
   ]
  },
  {
   "cell_type": "markdown",
   "id": "03863d61",
   "metadata": {},
   "source": [
    "## Displaying image"
   ]
  },
  {
   "cell_type": "code",
   "execution_count": 30,
   "id": "1d34c576",
   "metadata": {},
   "outputs": [
    {
     "data": {
      "text/plain": [
       "-1"
      ]
     },
     "execution_count": 30,
     "metadata": {},
     "output_type": "execute_result"
    }
   ],
   "source": [
    "cv2.imshow(\"Girl\", image)\n",
    "cv2.waitKey(0)"
   ]
  },
  {
   "cell_type": "markdown",
   "id": "d4f16117",
   "metadata": {},
   "source": [
    "## Read in RGB Format "
   ]
  },
  {
   "cell_type": "code",
   "execution_count": 31,
   "id": "3ca26e25",
   "metadata": {},
   "outputs": [
    {
     "data": {
      "text/plain": [
       "-1"
      ]
     },
     "execution_count": 31,
     "metadata": {},
     "output_type": "execute_result"
    }
   ],
   "source": [
    "gray_image = cv2.cvtColor(image, cv2.COLOR_BGR2GRAY)\n",
    "cv2.imshow(\"gray_img\", gray_image)\n",
    "cv2.waitKey(0)"
   ]
  },
  {
   "cell_type": "markdown",
   "id": "d0d81f0f",
   "metadata": {},
   "source": [
    "## Invert the image"
   ]
  },
  {
   "cell_type": "code",
   "execution_count": 32,
   "id": "e4202d26",
   "metadata": {},
   "outputs": [
    {
     "data": {
      "text/plain": [
       "-1"
      ]
     },
     "execution_count": 32,
     "metadata": {},
     "output_type": "execute_result"
    }
   ],
   "source": [
    "inverted_image = 255 - gray_image\n",
    "cv2.imshow(\"Inverted\", inverted_image)\n",
    "cv2.waitKey()"
   ]
  },
  {
   "cell_type": "markdown",
   "id": "335c69b2",
   "metadata": {},
   "source": [
    "## Blur the image"
   ]
  },
  {
   "cell_type": "code",
   "execution_count": 33,
   "id": "7a71232c",
   "metadata": {},
   "outputs": [],
   "source": [
    "blurred = cv2.GaussianBlur(inverted_image, (21, 21), 0)"
   ]
  },
  {
   "cell_type": "markdown",
   "id": "658a7938",
   "metadata": {},
   "source": [
    "# Sketch"
   ]
  },
  {
   "cell_type": "code",
   "execution_count": 34,
   "id": "f62fe103",
   "metadata": {},
   "outputs": [
    {
     "data": {
      "text/plain": [
       "-1"
      ]
     },
     "execution_count": 34,
     "metadata": {},
     "output_type": "execute_result"
    }
   ],
   "source": [
    "inverted_blurred = 255 - blurred\n",
    "pencil_sketch = cv2.divide(gray_image, inverted_blurred, scale=256.0)\n",
    "cv2.imshow(\"Sketch\", pencil_sketch)\n",
    "cv2.waitKey(0)"
   ]
  },
  {
   "cell_type": "markdown",
   "id": "880e9cab",
   "metadata": {},
   "source": [
    "## Comparing image and sketch"
   ]
  },
  {
   "cell_type": "code",
   "execution_count": 35,
   "id": "337a09ce",
   "metadata": {},
   "outputs": [
    {
     "data": {
      "text/plain": [
       "-1"
      ]
     },
     "execution_count": 35,
     "metadata": {},
     "output_type": "execute_result"
    }
   ],
   "source": [
    "cv2.imshow(\"original image\", image)\n",
    "cv2.imshow(\"pencil sketch\", pencil_sketch)\n",
    "cv2.waitKey(0)"
   ]
  },
  {
   "cell_type": "code",
   "execution_count": null,
   "id": "b8c4c722",
   "metadata": {},
   "outputs": [],
   "source": []
  }
 ],
 "metadata": {
  "kernelspec": {
   "display_name": "Python 3",
   "language": "python",
   "name": "python3"
  },
  "language_info": {
   "codemirror_mode": {
    "name": "ipython",
    "version": 3
   },
   "file_extension": ".py",
   "mimetype": "text/x-python",
   "name": "python",
   "nbconvert_exporter": "python",
   "pygments_lexer": "ipython3",
   "version": "3.8.8"
  }
 },
 "nbformat": 4,
 "nbformat_minor": 5
}
